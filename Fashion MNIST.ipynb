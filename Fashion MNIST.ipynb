{
 "metadata": {
  "language_info": {
   "codemirror_mode": {
    "name": "ipython",
    "version": 3
   },
   "file_extension": ".py",
   "mimetype": "text/x-python",
   "name": "python",
   "nbconvert_exporter": "python",
   "pygments_lexer": "ipython3",
   "version": 3
  },
  "orig_nbformat": 2,
  "kernelspec": {
   "name": "python_defaultSpec_1595164769294",
   "display_name": "Python 3.7.7 64-bit"
  }
 },
 "nbformat": 4,
 "nbformat_minor": 2,
 "cells": [
  {
   "cell_type": "code",
   "execution_count": 38,
   "metadata": {
    "tags": []
   },
   "outputs": [],
   "source": [
    "import numpy as np\n",
    "import matplotlib.pyplot as plt\n",
    "import keras\n",
    "from keras.datasets import fashion_mnist\n",
    "from keras.models import Sequential\n",
    "from keras.layers import Dense\n",
    "from keras.layers import Flatten\n",
    "from keras.optimizers import Adam\n",
    "from keras.layers.convolutional import Conv2D\n",
    "from keras.layers.convolutional import MaxPooling2D\n",
    "from keras.utils.np_utils import to_categorical\n",
    "import random"
   ]
  },
  {
   "cell_type": "code",
   "execution_count": 2,
   "metadata": {},
   "outputs": [],
   "source": [
    "(X_train, y_train), (X_test, y_test) = fashion_mnist.load_data()"
   ]
  },
  {
   "cell_type": "code",
   "execution_count": 3,
   "metadata": {},
   "outputs": [],
   "source": [
    "y_train = to_categorical(y_train, 10)\n",
    "y_test = to_categorical(y_test, 10)"
   ]
  },
  {
   "cell_type": "code",
   "execution_count": 4,
   "metadata": {},
   "outputs": [],
   "source": [
    "X_train = X_train/255\n",
    "X_test = X_test/255"
   ]
  },
  {
   "cell_type": "code",
   "execution_count": 5,
   "metadata": {},
   "outputs": [],
   "source": [
    "X_train = X_train.reshape(60000, 28, 28, 1)\n",
    "X_test = X_test.reshape(10000, 28, 28, 1)"
   ]
  },
  {
   "cell_type": "code",
   "execution_count": 48,
   "metadata": {},
   "outputs": [],
   "source": [
    "model = Sequential()\n",
    "model.add(Conv2D(35, (5,5), input_shape = (28, 28, 1), activation='relu'))\n",
    "model.add(MaxPooling2D(pool_size = (2, 2)))\n",
    "model.add(Conv2D(25, (3, 3), activation = 'relu'))\n",
    "model.add(MaxPooling2D(pool_size = (2,2)))\n",
    "#model.add(Conv2D(10,(3,3), activation='relu'))\n",
    "#model.add(MaxPooling2D(pool_size=(2,2)))\n",
    "model.add(Flatten())\n",
    "model.add(Dense(500, activation = 'relu'))\n",
    "model.add(Dense(500, activation = 'relu'))\n",
    "model.add(Dense(10, activation = 'softmax'))\n",
    "model.compile(Adam(lr = 0.01), loss = 'binary_crossentropy', metrics = ['accuracy'])"
   ]
  },
  {
   "cell_type": "code",
   "execution_count": 49,
   "metadata": {
    "tags": []
   },
   "outputs": [
    {
     "output_type": "stream",
     "name": "stdout",
     "text": "Model: \"sequential_14\"\n_________________________________________________________________\nLayer (type)                 Output Shape              Param #   \n=================================================================\nconv2d_27 (Conv2D)           (None, 24, 24, 35)        910       \n_________________________________________________________________\nmax_pooling2d_27 (MaxPooling (None, 12, 12, 35)        0         \n_________________________________________________________________\nconv2d_28 (Conv2D)           (None, 10, 10, 25)        7900      \n_________________________________________________________________\nmax_pooling2d_28 (MaxPooling (None, 5, 5, 25)          0         \n_________________________________________________________________\nflatten_14 (Flatten)         (None, 625)               0         \n_________________________________________________________________\ndense_39 (Dense)             (None, 500)               313000    \n_________________________________________________________________\ndense_40 (Dense)             (None, 500)               250500    \n_________________________________________________________________\ndense_41 (Dense)             (None, 10)                5010      \n=================================================================\nTotal params: 577,320\nTrainable params: 577,320\nNon-trainable params: 0\n_________________________________________________________________\nNone\n"
    }
   ],
   "source": [
    "print(model.summary())"
   ]
  },
  {
   "cell_type": "code",
   "execution_count": 50,
   "metadata": {
    "tags": []
   },
   "outputs": [
    {
     "output_type": "stream",
     "name": "stdout",
     "text": "Train on 54000 samples, validate on 6000 samples\nEpoch 1/10\n54000/54000 [==============================] - 25s 467us/step - loss: 0.1104 - accuracy: 0.9563 - val_loss: 0.0708 - val_accuracy: 0.9704\nEpoch 2/10\n54000/54000 [==============================] - 24s 445us/step - loss: 0.0610 - accuracy: 0.9753 - val_loss: 0.0591 - val_accuracy: 0.9755\nEpoch 3/10\n54000/54000 [==============================] - 24s 441us/step - loss: 0.0538 - accuracy: 0.9782 - val_loss: 0.0574 - val_accuracy: 0.9772\nEpoch 4/10\n54000/54000 [==============================] - 24s 443us/step - loss: 0.0501 - accuracy: 0.9797 - val_loss: 0.0531 - val_accuracy: 0.9787\nEpoch 5/10\n54000/54000 [==============================] - 24s 441us/step - loss: 0.0458 - accuracy: 0.9813 - val_loss: 0.0555 - val_accuracy: 0.9788\nEpoch 6/10\n54000/54000 [==============================] - 24s 442us/step - loss: 0.0438 - accuracy: 0.9821 - val_loss: 0.0511 - val_accuracy: 0.9799\nEpoch 7/10\n54000/54000 [==============================] - 24s 442us/step - loss: 0.0425 - accuracy: 0.9829 - val_loss: 0.0500 - val_accuracy: 0.9800\nEpoch 8/10\n54000/54000 [==============================] - 24s 445us/step - loss: 0.0399 - accuracy: 0.9838 - val_loss: 0.0550 - val_accuracy: 0.9788\nEpoch 9/10\n54000/54000 [==============================] - 24s 442us/step - loss: 0.0383 - accuracy: 0.9845 - val_loss: 0.0510 - val_accuracy: 0.9809\nEpoch 10/10\n54000/54000 [==============================] - 24s 444us/step - loss: 0.0373 - accuracy: 0.9848 - val_loss: 0.0515 - val_accuracy: 0.9810\n"
    }
   ],
   "source": [
    "history = model.fit(X_train, y_train, epochs = 10, validation_split = 0.1, batch_size = 500, verbose = 1, shuffle = True)"
   ]
  },
  {
   "cell_type": "code",
   "execution_count": 51,
   "metadata": {
    "tags": []
   },
   "outputs": [
    {
     "output_type": "stream",
     "name": "stdout",
     "text": "10000/10000 [==============================] - 2s 167us/step\n<class 'list'>\nTest Score: 0.05371105471253395\n['Test Accuracy:', 0.9802495837211609]\n"
    }
   ],
   "source": [
    "score = model.evaluate(X_test, y_test)\n",
    "print(type(score))\n",
    "print('Test Score:', score[0])\n",
    "print(['Test Accuracy:', score[1]])"
   ]
  },
  {
   "cell_type": "code",
   "execution_count": null,
   "metadata": {},
   "outputs": [],
   "source": []
  }
 ]
}