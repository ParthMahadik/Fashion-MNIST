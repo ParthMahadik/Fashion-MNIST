{
 "metadata": {
  "language_info": {
   "codemirror_mode": {
    "name": "ipython",
    "version": 3
   },
   "file_extension": ".py",
   "mimetype": "text/x-python",
   "name": "python",
   "nbconvert_exporter": "python",
   "pygments_lexer": "ipython3",
   "version": 3
  },
  "orig_nbformat": 2,
  "kernelspec": {
   "name": "python_defaultSpec_1595417173697",
   "display_name": "Python 3.7.7 64-bit"
  }
 },
 "nbformat": 4,
 "nbformat_minor": 2,
 "cells": [
  {
   "cell_type": "code",
   "execution_count": 86,
   "metadata": {
    "tags": []
   },
   "outputs": [],
   "source": [
    "import numpy as np\n",
    "import matplotlib.pyplot as plt\n",
    "import keras\n",
    "from keras.datasets import fashion_mnist\n",
    "from keras.models import Sequential\n",
    "from keras.layers import Dense\n",
    "from keras.layers import Flatten\n",
    "from keras.optimizers import Adam\n",
    "from keras.layers.convolutional import Conv2D\n",
    "from keras.layers.convolutional import MaxPooling2D\n",
    "from keras.utils.np_utils import to_categorical\n",
    "import random"
   ]
  },
  {
   "cell_type": "code",
   "execution_count": 87,
   "metadata": {},
   "outputs": [],
   "source": [
    "(X_train, y_train), (X_test, y_test) = fashion_mnist.load_data()"
   ]
  },
  {
   "cell_type": "code",
   "execution_count": 88,
   "metadata": {},
   "outputs": [],
   "source": [
    "y_train = to_categorical(y_train, 10)\n",
    "y_test = to_categorical(y_test, 10)"
   ]
  },
  {
   "cell_type": "code",
   "execution_count": 89,
   "metadata": {},
   "outputs": [],
   "source": [
    "X_train = X_train/255\n",
    "X_test = X_test/255"
   ]
  },
  {
   "cell_type": "code",
   "execution_count": 90,
   "metadata": {},
   "outputs": [],
   "source": [
    "X_train = X_train.reshape(60000, 28, 28, 1)\n",
    "X_test = X_test.reshape(10000, 28, 28, 1)"
   ]
  },
  {
   "cell_type": "code",
   "execution_count": 91,
   "metadata": {},
   "outputs": [],
   "source": [
    "model = Sequential()\n",
    "model.add(Conv2D(30, (5,5), input_shape = (28, 28, 1), activation='relu'))\n",
    "model.add(MaxPooling2D(pool_size = (2, 2)))\n",
    "model.add(Conv2D(15, (3, 3), activation = 'relu'))\n",
    "model.add(MaxPooling2D(pool_size = (2,2)))\n",
    "#model.add(Conv2D(10,(3,3), activation='relu'))\n",
    "#model.add(MaxPooling2D(pool_size=(2,2)))\n",
    "model.add(Flatten())\n",
    "model.add(Dense(750, activation = 'relu'))\n",
    "model.add(Dense(750, activation = 'relu'))\n",
    "#model.add(Dense(500, activation = 'relu'))\n",
    "model.add(Dense(10, activation = 'softmax'))\n",
    "model.compile(Adam(lr = 0.01), loss = 'categorical_crossentropy', metrics = ['accuracy'])"
   ]
  },
  {
   "cell_type": "code",
   "execution_count": 92,
   "metadata": {
    "tags": []
   },
   "outputs": [
    {
     "output_type": "stream",
     "name": "stdout",
     "text": "Model: \"sequential_18\"\n_________________________________________________________________\nLayer (type)                 Output Shape              Param #   \n=================================================================\nconv2d_35 (Conv2D)           (None, 24, 24, 30)        780       \n_________________________________________________________________\nmax_pooling2d_35 (MaxPooling (None, 12, 12, 30)        0         \n_________________________________________________________________\nconv2d_36 (Conv2D)           (None, 10, 10, 15)        4065      \n_________________________________________________________________\nmax_pooling2d_36 (MaxPooling (None, 5, 5, 15)          0         \n_________________________________________________________________\nflatten_18 (Flatten)         (None, 375)               0         \n_________________________________________________________________\ndense_54 (Dense)             (None, 750)               282000    \n_________________________________________________________________\ndense_55 (Dense)             (None, 750)               563250    \n_________________________________________________________________\ndense_56 (Dense)             (None, 10)                7510      \n=================================================================\nTotal params: 857,605\nTrainable params: 857,605\nNon-trainable params: 0\n_________________________________________________________________\nNone\n"
    }
   ],
   "source": [
    "print(model.summary())"
   ]
  },
  {
   "cell_type": "code",
   "execution_count": 93,
   "metadata": {
    "tags": []
   },
   "outputs": [
    {
     "output_type": "stream",
     "name": "stdout",
     "text": "Train on 54000 samples, validate on 6000 samples\nEpoch 1/15\n54000/54000 [==============================] - 23s 419us/step - loss: 0.7880 - accuracy: 0.7116 - val_loss: 0.4347 - val_accuracy: 0.8348\nEpoch 2/15\n54000/54000 [==============================] - 23s 429us/step - loss: 0.3764 - accuracy: 0.8608 - val_loss: 0.3541 - val_accuracy: 0.8737\nEpoch 3/15\n54000/54000 [==============================] - 22s 402us/step - loss: 0.3112 - accuracy: 0.8830 - val_loss: 0.3222 - val_accuracy: 0.8827\nEpoch 4/15\n54000/54000 [==============================] - 21s 397us/step - loss: 0.2842 - accuracy: 0.8929 - val_loss: 0.2863 - val_accuracy: 0.8957\nEpoch 5/15\n54000/54000 [==============================] - 22s 401us/step - loss: 0.2589 - accuracy: 0.9027 - val_loss: 0.2842 - val_accuracy: 0.8933\nEpoch 6/15\n54000/54000 [==============================] - 22s 400us/step - loss: 0.2404 - accuracy: 0.9091 - val_loss: 0.2771 - val_accuracy: 0.8982\nEpoch 7/15\n54000/54000 [==============================] - 22s 407us/step - loss: 0.2253 - accuracy: 0.9150 - val_loss: 0.2767 - val_accuracy: 0.8992\nEpoch 8/15\n54000/54000 [==============================] - 21s 398us/step - loss: 0.2214 - accuracy: 0.9161 - val_loss: 0.2886 - val_accuracy: 0.8962\nEpoch 9/15\n54000/54000 [==============================] - 21s 396us/step - loss: 0.2048 - accuracy: 0.9221 - val_loss: 0.2630 - val_accuracy: 0.9067\nEpoch 10/15\n54000/54000 [==============================] - 21s 396us/step - loss: 0.1826 - accuracy: 0.9302 - val_loss: 0.2792 - val_accuracy: 0.9013\nEpoch 11/15\n54000/54000 [==============================] - 22s 399us/step - loss: 0.1805 - accuracy: 0.9304 - val_loss: 0.2943 - val_accuracy: 0.9037\nEpoch 12/15\n54000/54000 [==============================] - 22s 402us/step - loss: 0.1654 - accuracy: 0.9359 - val_loss: 0.2829 - val_accuracy: 0.9045\nEpoch 13/15\n54000/54000 [==============================] - 22s 405us/step - loss: 0.1632 - accuracy: 0.9373 - val_loss: 0.2876 - val_accuracy: 0.9015\nEpoch 14/15\n54000/54000 [==============================] - 23s 423us/step - loss: 0.1550 - accuracy: 0.9397 - val_loss: 0.2909 - val_accuracy: 0.9078\nEpoch 15/15\n54000/54000 [==============================] - 22s 399us/step - loss: 0.1480 - accuracy: 0.9439 - val_loss: 0.2963 - val_accuracy: 0.9025\n"
    }
   ],
   "source": [
    "history = model.fit(X_train, y_train, epochs = 15, validation_split = 0.1, batch_size = 1000, verbose = 1, shuffle = True)"
   ]
  },
  {
   "cell_type": "code",
   "execution_count": 94,
   "metadata": {
    "tags": []
   },
   "outputs": [],
   "source": [
    "#score = model.evaluate(X_test, y_test)\n",
    "#print(type(score))\n",
    "#print('Test Score:', score[0])\n",
    "#print(['Test Accuracy:', score[1]])"
   ]
  },
  {
   "cell_type": "code",
   "execution_count": 95,
   "metadata": {},
   "outputs": [],
   "source": [
    " y_pred = model.predict_classes(X_test)\n"
   ]
  },
  {
   "cell_type": "code",
   "execution_count": 96,
   "metadata": {
    "tags": []
   },
   "outputs": [],
   "source": [
    "for k in range(0,9999):\n",
    "    y_test[k] = np.argmax(y_test[k])"
   ]
  },
  {
   "cell_type": "code",
   "execution_count": 97,
   "metadata": {},
   "outputs": [],
   "source": [
    "o = np.delete(y_test, [1,2,3,4,5,6,7,8,9], axis=1)"
   ]
  },
  {
   "cell_type": "code",
   "execution_count": 98,
   "metadata": {},
   "outputs": [],
   "source": [
    "from sklearn.metrics import confusion_matrix\n",
    "cm = confusion_matrix(o, y_pred)"
   ]
  },
  {
   "cell_type": "code",
   "execution_count": 99,
   "metadata": {},
   "outputs": [],
   "source": [
    "x = np.diagonal(cm)"
   ]
  },
  {
   "cell_type": "code",
   "execution_count": 100,
   "metadata": {},
   "outputs": [
    {
     "output_type": "execute_result",
     "data": {
      "text/plain": "array([844, 979, 865, 934, 786, 989, 725, 955, 975, 960], dtype=int64)"
     },
     "metadata": {},
     "execution_count": 100
    }
   ],
   "source": [
    "x"
   ]
  },
  {
   "cell_type": "code",
   "execution_count": 101,
   "metadata": {},
   "outputs": [],
   "source": [
    "diag_sum = np.sum(x)"
   ]
  },
  {
   "cell_type": "code",
   "execution_count": 102,
   "metadata": {},
   "outputs": [
    {
     "output_type": "execute_result",
     "data": {
      "text/plain": "9012"
     },
     "metadata": {},
     "execution_count": 102
    }
   ],
   "source": [
    "diag_sum"
   ]
  },
  {
   "cell_type": "code",
   "execution_count": 103,
   "metadata": {},
   "outputs": [],
   "source": [
    "all_sum = np.sum(cm)"
   ]
  },
  {
   "cell_type": "code",
   "execution_count": 104,
   "metadata": {},
   "outputs": [
    {
     "output_type": "execute_result",
     "data": {
      "text/plain": "10000"
     },
     "metadata": {},
     "execution_count": 104
    }
   ],
   "source": [
    "all_sum"
   ]
  },
  {
   "cell_type": "code",
   "execution_count": 105,
   "metadata": {
    "tags": []
   },
   "outputs": [
    {
     "output_type": "stream",
     "name": "stdout",
     "text": "90.12\n"
    }
   ],
   "source": [
    "print(diag_sum/all_sum * 100)"
   ]
  },
  {
   "cell_type": "code",
   "execution_count": null,
   "metadata": {},
   "outputs": [],
   "source": []
  }
 ]
}